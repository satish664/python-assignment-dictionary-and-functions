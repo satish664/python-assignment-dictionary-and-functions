{
 "cells": [
  {
   "cell_type": "code",
   "execution_count": 1,
   "id": "2f2cb5d3",
   "metadata": {},
   "outputs": [
    {
     "name": "stdout",
     "output_type": "stream",
     "text": [
      "Area of the triangle is :6.00\n"
     ]
    }
   ],
   "source": [
    "#1 Write a Python Program(with class concepts) to find the area of the triangle using the below\n",
    "#formula. area = (s*(s-a)*(s-b)*(s-c)) ** 0.5 Function to take the length of the sides of triangle from user should be defined in the parent\n",
    "#class and function to calculate the area should be defined in subclass.\n",
    "\n",
    "import math\n",
    "\n",
    "class Triangle:\n",
    "    def __init__(self, a, b, c):\n",
    "        self.a = a\n",
    "        self.b = b\n",
    "        self.c = c\n",
    "\n",
    "class Area(Triangle):\n",
    "    def __init__(self, *args):\n",
    "        super(Area, self).__init__(*args)\n",
    "\n",
    "    def area_triangle(self):\n",
    "        s = (self.a + self.b + self.c)/2\n",
    "        return (s*(s-self.a)*(s-self.b)*(s-self.c)) ** 0.5\n",
    "\n",
    "triangle = Area(3,4,5)\n",
    "print(\"Area of the triangle is :{0:.2f}\".format(triangle.area_triangle()))"
   ]
  },
  {
   "cell_type": "code",
   "execution_count": 2,
   "id": "e910620a",
   "metadata": {},
   "outputs": [
    {
     "name": "stdout",
     "output_type": "stream",
     "text": [
      "['hello', 'world']\n"
     ]
    }
   ],
   "source": [
    "#2 Write a function filter_long_words() that takes a list of words and an integer n and returns\n",
    "#the list of words that are longer than n.\n",
    "\n",
    "def filter_long_words(words, n):\n",
    "    return [word for word in words if len(word) > n]\n",
    "\n",
    "words = ['hello', 'world', 'this', 'is', 'a', 'test']\n",
    "long_words = filter_long_words(words, 4)\n",
    "print(long_words) # ['hello', 'world']"
   ]
  },
  {
   "cell_type": "code",
   "execution_count": 3,
   "id": "f72799c9",
   "metadata": {},
   "outputs": [
    {
     "name": "stdout",
     "output_type": "stream",
     "text": [
      "[5, 5, 4, 2, 1, 4]\n"
     ]
    }
   ],
   "source": [
    "#3 Write a Python program using function concept that maps list of words into a list of integers\n",
    "#representing the lengths of the corresponding words.\n",
    "\n",
    "def map_word_lengths(words):\n",
    "    return [len(word) for word in words]\n",
    "words = ['hello', 'world', 'this', 'is', 'a', 'test']\n",
    "lengths = map_word_lengths(words)\n",
    "print(lengths) # [5, 5, 4, 2, 1, 4]"
   ]
  },
  {
   "cell_type": "code",
   "execution_count": 5,
   "id": "e6385360",
   "metadata": {},
   "outputs": [],
   "source": [
    "#4 Write a Python function which takes a character (i.e. a string of length 1) and returns True if it is a vowel, False otherwise.\n",
    "\n",
    "def is_vowel(char):\n",
    "    vowels = 'aeiouAEIOU'\n",
    "    return char in vowels\n",
    "\n"
   ]
  },
  {
   "cell_type": "code",
   "execution_count": 6,
   "id": "9f11ace9",
   "metadata": {},
   "outputs": [
    {
     "name": "stdout",
     "output_type": "stream",
     "text": [
      "True\n",
      "False\n",
      "True\n"
     ]
    }
   ],
   "source": [
    "print(is_vowel('a')) # True\n",
    "print(is_vowel('b')) # False\n",
    "print(is_vowel('A')) # True"
   ]
  },
  {
   "cell_type": "code",
   "execution_count": null,
   "id": "ce31783e",
   "metadata": {},
   "outputs": [],
   "source": []
  }
 ],
 "metadata": {
  "kernelspec": {
   "display_name": "Python 3",
   "language": "python",
   "name": "python3"
  },
  "language_info": {
   "codemirror_mode": {
    "name": "ipython",
    "version": 3
   },
   "file_extension": ".py",
   "mimetype": "text/x-python",
   "name": "python",
   "nbconvert_exporter": "python",
   "pygments_lexer": "ipython3",
   "version": "3.6.4"
  }
 },
 "nbformat": 4,
 "nbformat_minor": 5
}
